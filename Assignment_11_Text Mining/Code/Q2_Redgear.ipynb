{
 "cells": [
  {
   "cell_type": "code",
   "execution_count": 39,
   "metadata": {},
   "outputs": [],
   "source": [
    "from bs4 import BeautifulSoup as bs\n",
    "import requests\n",
    "\n",
    "from tqdm import tqdm_notebook\n",
    "\n",
    "import pandas as pd"
   ]
  },
  {
   "cell_type": "code",
   "execution_count": 28,
   "metadata": {},
   "outputs": [],
   "source": [
    "ps5_reviews=[]\n",
    "\n",
    "for i in range(1,20):\n",
    "    ip=[]\n",
    "\n",
    "url = 'https://www.amazon.in/Sony-PS5-PlayStation-Console/product-reviews/B0BRCP72X8'\n",
    "response = requests.get(url)\n",
    "soup = bs(response.content,\"html.parser\")\n",
    "reviews = soup.findAll(\"span\",attrs={\"class\",\"a-size-base review-text review-text-content\"})"
   ]
  },
  {
   "cell_type": "code",
   "execution_count": 29,
   "metadata": {},
   "outputs": [],
   "source": [
    "for i in range(len(reviews)):\n",
    "    ip.append(reviews[i].text)  \n",
    "    ps5_reviews=ps5_reviews+ip\n",
    "\n",
    "with open(\"ps5.txt\",\"w\",encoding='utf8') as output:\n",
    "    output.write(str(ps5_reviews))"
   ]
  },
  {
   "cell_type": "code",
   "execution_count": null,
   "metadata": {},
   "outputs": [],
   "source": [
    "ps5_reviews"
   ]
  },
  {
   "cell_type": "code",
   "execution_count": null,
   "metadata": {},
   "outputs": [],
   "source": [
    "https://www.amazon.in/boAt-Xtend-Pro-Dedicated-Bluetooth/dp/B0B574QXFL/ref=sr_1_3?adgrpid=66314740727&ext_vrnc=hi&gclid=CjwKCAiAheacBhB8EiwAItVO27OqojMgIrqr8l4RkhJXVEgEYEy5H4Hv_ggVfrdU-8RF6WYv_aDItRoCKvwQAvD_BwE&hvadid=398059830400&hvdev=c&hvlocphy=1007768&hvnetw=g&hvqmt=b&hvrand=1335892987492695214&hvtargid=kwd-1434352673191&hydadcr=24569_1971431&keywords=boat+xtend+pro&qid=1671035479&sr=8-3"
   ]
  },
  {
   "cell_type": "code",
   "execution_count": 31,
   "metadata": {},
   "outputs": [],
   "source": [
    "headers = { 'authority': 'www.amazon.in',\n",
    "            'accept-language': 'en-US,en;q=0.9',\n",
    "            'referer': 'https://www.amazon.in/boAt-Xtend-Pro-Dedicated-Bluetooth/dp/B0B574QXFL/ref=sr_1_3?adgrpid=66314740727&ext_vrnc=hi&gclid=CjwKCAiAheacBhB8EiwAItVO27OqojMgIrqr8l4RkhJXVEgEYEy5H4Hv_ggVfrdU-8RF6WYv_aDItRoCKvwQAvD_BwE&hvadid=398059830400&hvdev=c&hvlocphy=1007768&hvnetw=g&hvqmt=b&hvrand=1335892987492695214&hvtargid=kwd-1434352673191&hydadcr=24569_1971431&keywords=boat+xtend+pro&qid=1671035479&sr=8-3',\n",
    "            'user-agent': 'Mozilla/5.0 (Windows NT 10.0; Win64; x64) AppleWebKit/537.36 (KHTML, like Gecko) Chrome/102.0.0.0 Safari/537.36'}\n"
   ]
  },
  {
   "cell_type": "code",
   "execution_count": 32,
   "metadata": {},
   "outputs": [],
   "source": [
    "def get_soup(url):\n",
    "    r = requests.get(url, headers=headers,\n",
    "    params={'url': url, 'wait': 2})\n",
    "    soup = bs(r.text, 'html.parser')\n",
    "    return soup"
   ]
  },
  {
   "cell_type": "code",
   "execution_count": 33,
   "metadata": {},
   "outputs": [],
   "source": [
    "reviewlist = []\n",
    "\n",
    "def get_reviews(soup):\n",
    "    reviews = soup.find_all('div', {'data-hook': 'review'})\n",
    "    try:\n",
    "        for item in reviews:\n",
    "            review = {  'Title': item.find('a', {'data-hook': 'review-title'}).text.strip(),\n",
    "                        'Rating':float(item.find('i', {'data-hook': 'review-star-rating'}).text.replace('out of 5 stars', '').strip()),\n",
    "                        'Review':item.find('span', {'data-hook': 'review-body'}).text.strip(),\n",
    "                        'Review_Date':item.find('span', {'data-hook': 'review-date'}).text.replace('Reviewed in India 🇮🇳 on', 'Reviewed in India on').strip()}\n",
    "            reviewlist.append(review)\n",
    "    except:\n",
    "        pass"
   ]
  },
  {
   "cell_type": "code",
   "execution_count": 37,
   "metadata": {},
   "outputs": [
    {
     "name": "stderr",
     "output_type": "stream",
     "text": [
      "C:\\Users\\ASUS\\AppData\\Local\\Temp\\ipykernel_1964\\189547753.py:1: TqdmDeprecationWarning: This function will be removed in tqdm==5.0.0\n",
      "Please use `tqdm.notebook.tqdm` instead of `tqdm.tqdm_notebook`\n",
      "  for x in tqdm_notebook(range(160)):\n"
     ]
    },
    {
     "data": {
      "application/vnd.jupyter.widget-view+json": {
       "model_id": "b1167e2ea3a641528bf5f68db58a7c6c",
       "version_major": 2,
       "version_minor": 0
      },
      "text/plain": [
       "  0%|          | 0/160 [00:00<?, ?it/s]"
      ]
     },
     "metadata": {},
     "output_type": "display_data"
    }
   ],
   "source": [
    "for x in tqdm_notebook(range(160)):\n",
    "    soup = get_soup(f'https://www.amazon.in/boAt-Xtend-Pro-Dedicated-Bluetooth/product-reviews/B0B574QXFL/ref=cm_cr_arp_d_paging_btm_next_2?ie=UTF8&reviewerType=all_reviews&pageNumber={x}')\n",
    "    get_reviews(soup)\n",
    "    if not soup.find('li', {'class': 'a-disabled a-last'}):\n",
    "        pass\n",
    "    else:\n",
    "        break"
   ]
  },
  {
   "cell_type": "code",
   "execution_count": 40,
   "metadata": {},
   "outputs": [
    {
     "data": {
      "text/html": [
       "<div>\n",
       "<style scoped>\n",
       "    .dataframe tbody tr th:only-of-type {\n",
       "        vertical-align: middle;\n",
       "    }\n",
       "\n",
       "    .dataframe tbody tr th {\n",
       "        vertical-align: top;\n",
       "    }\n",
       "\n",
       "    .dataframe thead th {\n",
       "        text-align: right;\n",
       "    }\n",
       "</style>\n",
       "<table border=\"1\" class=\"dataframe\">\n",
       "  <thead>\n",
       "    <tr style=\"text-align: right;\">\n",
       "      <th></th>\n",
       "      <th>Title</th>\n",
       "      <th>Rating</th>\n",
       "      <th>Review</th>\n",
       "      <th>Review_Date</th>\n",
       "    </tr>\n",
       "  </thead>\n",
       "  <tbody>\n",
       "    <tr>\n",
       "      <th>0</th>\n",
       "      <td>Good build quality &amp; display. But not very smart.</td>\n",
       "      <td>3.0</td>\n",
       "      <td>Skipping the parts mostly covered in other rev...</td>\n",
       "      <td>Reviewed in India on 9 August 2022</td>\n",
       "    </tr>\n",
       "    <tr>\n",
       "      <th>1</th>\n",
       "      <td>Ita is an ok product....better to buy a good f...</td>\n",
       "      <td>3.0</td>\n",
       "      <td>The media could not be loaded.\\n              ...</td>\n",
       "      <td>Reviewed in India on 17 October 2022</td>\n",
       "    </tr>\n",
       "    <tr>\n",
       "      <th>2</th>\n",
       "      <td>Worth the price!</td>\n",
       "      <td>4.0</td>\n",
       "      <td>The media could not be loaded.\\n              ...</td>\n",
       "      <td>Reviewed in India on 26 August 2022</td>\n",
       "    </tr>\n",
       "    <tr>\n",
       "      <th>3</th>\n",
       "      <td>Awesome Battery life</td>\n",
       "      <td>4.0</td>\n",
       "      <td>The battery life of the watch is really incred...</td>\n",
       "      <td>Reviewed in India on 9 April 2023</td>\n",
       "    </tr>\n",
       "    <tr>\n",
       "      <th>4</th>\n",
       "      <td>It's a good product</td>\n",
       "      <td>4.0</td>\n",
       "      <td>Call quality is nice ☺️Display is assume....</td>\n",
       "      <td>Reviewed in India on 26 March 2023</td>\n",
       "    </tr>\n",
       "    <tr>\n",
       "      <th>...</th>\n",
       "      <td>...</td>\n",
       "      <td>...</td>\n",
       "      <td>...</td>\n",
       "      <td>...</td>\n",
       "    </tr>\n",
       "    <tr>\n",
       "      <th>1665</th>\n",
       "      <td>Watch has so many features in this range.</td>\n",
       "      <td>5.0</td>\n",
       "      <td>I am using this watch from last 5 days and it ...</td>\n",
       "      <td>Reviewed in India on 7 November 2022</td>\n",
       "    </tr>\n",
       "    <tr>\n",
       "      <th>1666</th>\n",
       "      <td>awesome quality👌</td>\n",
       "      <td>5.0</td>\n",
       "      <td>The battery is really good the value is loud, ...</td>\n",
       "      <td>Reviewed in India on 8 November 2022</td>\n",
       "    </tr>\n",
       "    <tr>\n",
       "      <th>1667</th>\n",
       "      <td>good</td>\n",
       "      <td>5.0</td>\n",
       "      <td>i love everything about this watch.</td>\n",
       "      <td>Reviewed in India on 17 November 2022</td>\n",
       "    </tr>\n",
       "    <tr>\n",
       "      <th>1668</th>\n",
       "      <td>Good features and durability</td>\n",
       "      <td>5.0</td>\n",
       "      <td>Battery life is great and exercise modes. I ha...</td>\n",
       "      <td>Reviewed in India on 8 November 2022</td>\n",
       "    </tr>\n",
       "    <tr>\n",
       "      <th>1669</th>\n",
       "      <td>Value for money</td>\n",
       "      <td>5.0</td>\n",
       "      <td>Everything works perfect</td>\n",
       "      <td>Reviewed in India on 9 November 2022</td>\n",
       "    </tr>\n",
       "  </tbody>\n",
       "</table>\n",
       "<p>1670 rows × 4 columns</p>\n",
       "</div>"
      ],
      "text/plain": [
       "                                                  Title  Rating  \\\n",
       "0     Good build quality & display. But not very smart.     3.0   \n",
       "1     Ita is an ok product....better to buy a good f...     3.0   \n",
       "2                                      Worth the price!     4.0   \n",
       "3                                  Awesome Battery life     4.0   \n",
       "4                                   It's a good product     4.0   \n",
       "...                                                 ...     ...   \n",
       "1665          Watch has so many features in this range.     5.0   \n",
       "1666                                   awesome quality👌     5.0   \n",
       "1667                                               good     5.0   \n",
       "1668                       Good features and durability     5.0   \n",
       "1669                                    Value for money     5.0   \n",
       "\n",
       "                                                 Review  \\\n",
       "0     Skipping the parts mostly covered in other rev...   \n",
       "1     The media could not be loaded.\\n              ...   \n",
       "2     The media could not be loaded.\\n              ...   \n",
       "3     The battery life of the watch is really incred...   \n",
       "4          Call quality is nice ☺️Display is assume....   \n",
       "...                                                 ...   \n",
       "1665  I am using this watch from last 5 days and it ...   \n",
       "1666  The battery is really good the value is loud, ...   \n",
       "1667                i love everything about this watch.   \n",
       "1668  Battery life is great and exercise modes. I ha...   \n",
       "1669                           Everything works perfect   \n",
       "\n",
       "                                Review_Date  \n",
       "0        Reviewed in India on 9 August 2022  \n",
       "1      Reviewed in India on 17 October 2022  \n",
       "2       Reviewed in India on 26 August 2022  \n",
       "3         Reviewed in India on 9 April 2023  \n",
       "4        Reviewed in India on 26 March 2023  \n",
       "...                                     ...  \n",
       "1665   Reviewed in India on 7 November 2022  \n",
       "1666   Reviewed in India on 8 November 2022  \n",
       "1667  Reviewed in India on 17 November 2022  \n",
       "1668   Reviewed in India on 8 November 2022  \n",
       "1669   Reviewed in India on 9 November 2022  \n",
       "\n",
       "[1670 rows x 4 columns]"
      ]
     },
     "execution_count": 40,
     "metadata": {},
     "output_type": "execute_result"
    }
   ],
   "source": [
    "df = pd.DataFrame(reviewlist)\n",
    "df"
   ]
  }
 ],
 "metadata": {
  "kernelspec": {
   "display_name": "base",
   "language": "python",
   "name": "python3"
  },
  "language_info": {
   "codemirror_mode": {
    "name": "ipython",
    "version": 3
   },
   "file_extension": ".py",
   "mimetype": "text/x-python",
   "name": "python",
   "nbconvert_exporter": "python",
   "pygments_lexer": "ipython3",
   "version": "3.9.13"
  },
  "orig_nbformat": 4
 },
 "nbformat": 4,
 "nbformat_minor": 2
}
