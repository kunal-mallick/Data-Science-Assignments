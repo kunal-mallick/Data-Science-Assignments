{
 "cells": [
  {
   "attachments": {},
   "cell_type": "markdown",
   "metadata": {},
   "source": [
    "# A cloth manufacturing company is interested to know about the segment or attributes causes high sale. \n",
    "Approach - A decision tree can be built with target variable Sale (we will first convert it in categorical variable) & all other variable will be independent in the analysis.  \n"
   ]
  },
  {
   "cell_type": "markdown",
   "metadata": {},
   "source": [
    "## Data Description:"
   ]
  },
  {
   "attachments": {},
   "cell_type": "markdown",
   "metadata": {},
   "source": [
    "- Sales : Unit sales (in thousands) at each location\n",
    "- Competitor Price : Price charged by competitor at each location\n",
    "- Income : Community income level (in thousands of dollars)\n",
    "- Advertising : Local advertising budget for company at each location (in thousands of dollars)\n",
    "- Population : Population size in region (in thousands)\n",
    "- Price : Price company charges for car seats at each site\n",
    "- Shelf Location at stores : A factor with levels Bad, Good and Medium indicating the quality of the shelving location for the car seats at each site\n",
    "- Age : Average age of the local population\n",
    "- Education : Education level at each location\n",
    "- Urban : A factor with levels No and Yes to indicate whether the store is in an urban or rural location\n",
    "- US : A factor with levels No and Yes to indicate whether the store is in the US or not"
   ]
  },
  {
   "cell_type": "markdown",
   "metadata": {},
   "source": []
  }
 ],
 "metadata": {
  "language_info": {
   "name": "python"
  },
  "orig_nbformat": 4
 },
 "nbformat": 4,
 "nbformat_minor": 2
}
