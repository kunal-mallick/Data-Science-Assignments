{
  "nbformat": 4,
  "nbformat_minor": 0,
  "metadata": {
    "colab": {
      "provenance": [],
      "authorship_tag": "ABX9TyMcY22bP9powHQ9F5ZewXST",
      "include_colab_link": true
    },
    "kernelspec": {
      "name": "python3",
      "display_name": "Python 3"
    },
    "language_info": {
      "name": "python"
    }
  },
  "cells": [
    {
      "cell_type": "markdown",
      "metadata": {
        "id": "view-in-github",
        "colab_type": "text"
      },
      "source": [
        "<a href=\"https://colab.research.google.com/github/kunal-mallick/Data-Science-Assignments/blob/main/02_Basic%20Statistics_Level_2/code/Set_1.ipynb\" target=\"_parent\"><img src=\"https://colab.research.google.com/assets/colab-badge.svg\" alt=\"Open In Colab\"/></a>"
      ]
    },
    {
      "cell_type": "code",
      "execution_count": 2,
      "metadata": {
        "id": "c-QhzfIAG3nE"
      },
      "outputs": [],
      "source": [
        "import matplotlib.pyplot as plt\n",
        "import numpy as np\n",
        "import pandas as pd\n",
        "import statistics as sta\n",
        "import warnings\n",
        "import seaborn as sns\n",
        "from scipy import stats as st\n",
        "import math as ma\n",
        "\n",
        "warnings.filterwarnings('ignore')\n",
        "plt.rcParams['figure.figsize'] = (5,3)\n",
        "plt.rcParams['figure.dpi'] = 200"
      ]
    },
    {
      "cell_type": "markdown",
      "source": [
        "# **1. Look at the data given below. Plot the data, find the outliers and find out  μ,σ,σ^2**\n",
        "![WINWORD_6YjccikmzN.png](data:image/png;base64,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)"
      ],
      "metadata": {
        "id": "XC2fUJc7HZ13"
      }
    },
    {
      "cell_type": "code",
      "source": [
        "x = [24.23,25.53,25.41,24.14,29.62,28.25,25.81,24.39,40.26,32.95,91.36,25.99,39.43,26.71,35.00]\n",
        "x = np.array(x)"
      ],
      "metadata": {
        "id": "BAzTY1UCIWNA"
      },
      "execution_count": 4,
      "outputs": []
    },
    {
      "cell_type": "code",
      "source": [
        "x.mean()"
      ],
      "metadata": {
        "colab": {
          "base_uri": "https://localhost:8080/"
        },
        "id": "ByJnkeBzKBPQ",
        "outputId": "af4b9e7a-cc9e-4da9-c211-a45e19024404"
      },
      "execution_count": 5,
      "outputs": [
        {
          "output_type": "execute_result",
          "data": {
            "text/plain": [
              "33.272"
            ]
          },
          "metadata": {},
          "execution_count": 5
        }
      ]
    },
    {
      "cell_type": "code",
      "source": [
        "x.var()"
      ],
      "metadata": {
        "colab": {
          "base_uri": "https://localhost:8080/"
        },
        "id": "IC4ftQswKIc1",
        "outputId": "91b39daa-c71d-48cd-8cc8-9e429a5c4df5"
      },
      "execution_count": 6,
      "outputs": [
        {
          "output_type": "execute_result",
          "data": {
            "text/plain": [
              "268.0117093333333"
            ]
          },
          "metadata": {},
          "execution_count": 6
        }
      ]
    },
    {
      "cell_type": "code",
      "source": [
        "x.std()"
      ],
      "metadata": {
        "colab": {
          "base_uri": "https://localhost:8080/"
        },
        "id": "3yHOOep7KM-0",
        "outputId": "6247ae42-dd21-405a-88d9-d550a00e088e"
      },
      "execution_count": 7,
      "outputs": [
        {
          "output_type": "execute_result",
          "data": {
            "text/plain": [
              "16.371063170525403"
            ]
          },
          "metadata": {},
          "execution_count": 7
        }
      ]
    },
    {
      "cell_type": "markdown",
      "source": [
        "- μ   : 33.272\n",
        "- σ   : 268.0117093333333\n",
        "- σ^2 : 16.371063170525403\n",
        "- Outlier : Morgan Stanley (91.36%)"
      ],
      "metadata": {
        "id": "QmA4a6BzKrQ1"
      }
    }
  ]
}