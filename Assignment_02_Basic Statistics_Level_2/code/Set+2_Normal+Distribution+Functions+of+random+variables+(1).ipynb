{
  "nbformat": 4,
  "nbformat_minor": 0,
  "metadata": {
    "colab": {
      "provenance": []
    },
    "kernelspec": {
      "name": "python3",
      "display_name": "Python 3"
    },
    "language_info": {
      "name": "python"
    }
  },
  "cells": [
    {
      "cell_type": "code",
      "execution_count": 1,
      "metadata": {
        "id": "4SozYb1q0iJ9"
      },
      "outputs": [],
      "source": [
        "from scipy import stats as st"
      ]
    },
    {
      "cell_type": "markdown",
      "source": [
        "# **1. The time required for servicing transmissions is normally distributed with m = 45 minutes and s = 8 minutes. The service manager plans to have work begin on the transmission of a customer’s car 10 minutes after the car is dropped off and the customer is told that the car will be ready within 1 hour from drop-off. What is the probability that the service manager cannot meet his commitment?**\n",
        "\n",
        "- A. 0.3875\n",
        "\n",
        "- B. 0.2676\n",
        "\n",
        "- C. 0.5\n",
        "\n",
        "- D. 0.6987\n"
      ],
      "metadata": {
        "id": "GojJnrpv7JWt"
      }
    },
    {
      "cell_type": "code",
      "source": [
        "1 - st.norm.cdf(50,45,8)"
      ],
      "metadata": {
        "colab": {
          "base_uri": "https://localhost:8080/"
        },
        "id": "5-dVSosx4WoV",
        "outputId": "5dd4b7c1-4500-48e7-e569-93b40524c558"
      },
      "execution_count": 19,
      "outputs": [
        {
          "output_type": "execute_result",
          "data": {
            "text/plain": [
              "0.26598552904870054"
            ]
          },
          "metadata": {},
          "execution_count": 19
        }
      ]
    },
    {
      "cell_type": "markdown",
      "source": [
        "# B. **0.2676**"
      ],
      "metadata": {
        "id": "UdGYhsqQCWcn"
      }
    },
    {
      "cell_type": "markdown",
      "source": [
        "# **2. The current age (in years) of 400 clerical employees at an insurance claims processing center is normally distributed with mean m = 38 and Standard deviation s =6. For each statement below, please specify True/False. If false, briefly explain why.**\n",
        "\n",
        "- **More employees at the processing center are older than 44 than between 38 and 44**"
      ],
      "metadata": {
        "id": "eCcrSOVD0wFX"
      }
    },
    {
      "cell_type": "code",
      "source": [
        "p44 = 1-st.norm.cdf(44,38,6)\n",
        "p44"
      ],
      "metadata": {
        "colab": {
          "base_uri": "https://localhost:8080/"
        },
        "id": "CQ81TD8613v6",
        "outputId": "bfa5e594-ca50-4fcf-ddb1-d1ce6d996c04"
      },
      "execution_count": 5,
      "outputs": [
        {
          "output_type": "execute_result",
          "data": {
            "text/plain": [
              "0.15865525393145707"
            ]
          },
          "metadata": {},
          "execution_count": 5
        }
      ]
    },
    {
      "cell_type": "code",
      "source": [
        "p38_44 = st.norm.cdf(44,38,6)-st.norm.cdf(38,38,6)\n",
        "p38_44"
      ],
      "metadata": {
        "colab": {
          "base_uri": "https://localhost:8080/"
        },
        "id": "o7u5_vng2QUw",
        "outputId": "e7a67155-70c6-45e5-e278-e6be9098cf3f"
      },
      "execution_count": 6,
      "outputs": [
        {
          "output_type": "execute_result",
          "data": {
            "text/plain": [
              "0.3413447460685429"
            ]
          },
          "metadata": {},
          "execution_count": 6
        }
      ]
    },
    {
      "cell_type": "code",
      "source": [
        "p44 > p38_44"
      ],
      "metadata": {
        "colab": {
          "base_uri": "https://localhost:8080/"
        },
        "id": "NGJy5J4s3Fud",
        "outputId": "112d7db3-f49d-4856-964d-dfcd597bb780"
      },
      "execution_count": 7,
      "outputs": [
        {
          "output_type": "execute_result",
          "data": {
            "text/plain": [
              "False"
            ]
          },
          "metadata": {},
          "execution_count": 7
        }
      ]
    },
    {
      "cell_type": "markdown",
      "source": [
        "# **4. Let X ~ N(100, 202). Find two values, a and b, symmetric about the mean, such that the probability of the random variable taking a value between them is 0.99.**\n",
        "\n",
        "- A. 90.5, 105.9\n",
        "\n",
        "- B. 80.2, 119.8\n",
        "\n",
        "- C. 22, 78\n",
        "\n",
        "- D. 48.5, 151.5\n",
        "\n",
        "- E. 90.1, 109.9"
      ],
      "metadata": {
        "id": "wMVQGP5b8FEx"
      }
    },
    {
      "cell_type": "code",
      "source": [
        "100 - st.norm.ppf(0.995)*20"
      ],
      "metadata": {
        "colab": {
          "base_uri": "https://localhost:8080/"
        },
        "id": "pT9TH0o7_-Wq",
        "outputId": "4ff73ad3-a8cb-48b6-a7bc-20bdfc1d169c"
      },
      "execution_count": 23,
      "outputs": [
        {
          "output_type": "execute_result",
          "data": {
            "text/plain": [
              "48.48341392902199"
            ]
          },
          "metadata": {},
          "execution_count": 23
        }
      ]
    },
    {
      "cell_type": "code",
      "source": [
        "100 + st.norm.ppf(0.995)*20"
      ],
      "metadata": {
        "colab": {
          "base_uri": "https://localhost:8080/"
        },
        "id": "41DG0ScaAPQm",
        "outputId": "123334eb-27e9-4b20-b3a5-ae4f9aca46d5"
      },
      "execution_count": 24,
      "outputs": [
        {
          "output_type": "execute_result",
          "data": {
            "text/plain": [
              "151.516586070978"
            ]
          },
          "metadata": {},
          "execution_count": 24
        }
      ]
    },
    {
      "cell_type": "markdown",
      "source": [
        "# D.**48.5, 151.5**"
      ],
      "metadata": {
        "id": "vaAMiUcMAiUe"
      }
    },
    {
      "cell_type": "markdown",
      "source": [
        "# **5. Consider a company that has two different divisions. The annual profits from the two divisions are independent and have distributions Profit1 ~ N(5, 3^2) and Profit2 ~ N(7, 4^2) respectively. Both the profits are in Million Dollar. Answer the following questions about the total profit of the company in Rupees. Assume that 1 Dollar = Rs. 45**\n",
        "\n",
        "- **A. Specify a Rupee range (centered on the mean) such that it contains 95% probability for the annual profit of the company.**"
      ],
      "metadata": {
        "id": "Plu6bUw3KS_K"
      }
    },
    {
      "cell_type": "markdown",
      "source": [
        "Profit1 + Profit2 = N(5, 3^2) + N(7, 4^2)\n",
        "\n",
        "Annual Profit = N(12, 5^2)"
      ],
      "metadata": {
        "id": "bc66qV2KKzH2"
      }
    },
    {
      "cell_type": "code",
      "source": [
        "45*abs(12 - st.norm.ppf(0.975)*5)"
      ],
      "metadata": {
        "colab": {
          "base_uri": "https://localhost:8080/"
        },
        "id": "woDgU1cvJ8f-",
        "outputId": "67c515bf-f77b-417a-8426-03e0677dcade"
      },
      "execution_count": 33,
      "outputs": [
        {
          "output_type": "execute_result",
          "data": {
            "text/plain": [
              "99.00810347848788"
            ]
          },
          "metadata": {},
          "execution_count": 33
        }
      ]
    },
    {
      "cell_type": "code",
      "source": [
        "45*abs(12 + st.norm.ppf(0.975)*5)"
      ],
      "metadata": {
        "colab": {
          "base_uri": "https://localhost:8080/"
        },
        "id": "yxxwKgsHM4ll",
        "outputId": "26ec44e4-778e-4134-83e6-4961a6fe3ddd"
      },
      "execution_count": 34,
      "outputs": [
        {
          "output_type": "execute_result",
          "data": {
            "text/plain": [
              "980.9918965215121"
            ]
          },
          "metadata": {},
          "execution_count": 34
        }
      ]
    },
    {
      "cell_type": "markdown",
      "source": [
        "- **B. Specify the 5th percentile of profit (in Rupees) for the company**"
      ],
      "metadata": {
        "id": "qHaa1NyFNJeO"
      }
    },
    {
      "cell_type": "code",
      "source": [
        "45*abs(12 + st.norm.ppf(0.05)*5)"
      ],
      "metadata": {
        "colab": {
          "base_uri": "https://localhost:8080/"
        },
        "id": "pO1DgzFiNRMU",
        "outputId": "1be64867-c43f-41ff-e360-2264b9ee1ece"
      },
      "execution_count": 36,
      "outputs": [
        {
          "output_type": "execute_result",
          "data": {
            "text/plain": [
              "169.90793393591858"
            ]
          },
          "metadata": {},
          "execution_count": 36
        }
      ]
    }
  ]
}