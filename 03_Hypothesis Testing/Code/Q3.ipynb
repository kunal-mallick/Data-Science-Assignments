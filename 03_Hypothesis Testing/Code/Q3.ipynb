{
  "cells": [
    {
      "cell_type": "markdown",
      "metadata": {
        "colab_type": "text",
        "id": "view-in-github"
      },
      "source": [
        "<a href=\"https://colab.research.google.com/github/kunal-mallick/Data-Science-Assignments/blob/main/Hypothesis%20Testing/Code/Q3.ipynb\" target=\"_parent\"><img src=\"https://colab.research.google.com/assets/colab-badge.svg\" alt=\"Open In Colab\"/></a>"
      ]
    },
    {
      "cell_type": "code",
<<<<<<< HEAD
      "execution_count": 5,
=======
<<<<<<< Updated upstream
      "execution_count": 12,
=======
      "execution_count": 5,
>>>>>>> Stashed changes
>>>>>>> 26ed4f0d7b6ab6e72756ca639f5d98b105c8cd74
      "metadata": {
        "id": "t6K_r98ObZt5"
      },
      "outputs": [],
      "source": [
        "import pandas as pd\n",
        "from scipy import stats as st\n",
        "import matplotlib.pyplot as plt\n",
        "import seaborn as sns\n",
        "import warnings\n",
        "\n",
        "warnings.filterwarnings('ignore')\n",
        "plt.rcParams['figure.figsize'] = (5,3)\n",
        "plt.rcParams['figure.dpi'] = 200"
      ]
    },
    {
      "cell_type": "markdown",
      "metadata": {
        "id": "6-eAmKDecQpW"
      },
      "source": [
        "![download.png](data:image/png;base64,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)"
      ]
    },
    {
      "cell_type": "code",
<<<<<<< HEAD
      "execution_count": 6,
=======
<<<<<<< Updated upstream
      "execution_count": 13,
=======
      "execution_count": 6,
>>>>>>> Stashed changes
>>>>>>> 26ed4f0d7b6ab6e72756ca639f5d98b105c8cd74
      "metadata": {
        "colab": {
          "base_uri": "https://localhost:8080/",
          "height": 207
        },
        "id": "Hkv2WeAxdHWS",
        "outputId": "ec86efa2-59a6-49be-f6fe-4dc443c41856"
      },
      "outputs": [
        {
          "data": {
            "text/html": [
              "<div>\n",
              "<style scoped>\n",
              "    .dataframe tbody tr th:only-of-type {\n",
              "        vertical-align: middle;\n",
              "    }\n",
              "\n",
              "    .dataframe tbody tr th {\n",
              "        vertical-align: top;\n",
              "    }\n",
              "\n",
              "    .dataframe thead th {\n",
              "        text-align: right;\n",
              "    }\n",
              "</style>\n",
              "<table border=\"1\" class=\"dataframe\">\n",
              "  <thead>\n",
              "    <tr style=\"text-align: right;\">\n",
              "      <th></th>\n",
              "      <th>Observed Values</th>\n",
              "      <th>East</th>\n",
              "      <th>West</th>\n",
              "      <th>North</th>\n",
              "      <th>South</th>\n",
              "    </tr>\n",
              "  </thead>\n",
              "  <tbody>\n",
              "    <tr>\n",
              "      <th>0</th>\n",
              "      <td>Males</td>\n",
              "      <td>50</td>\n",
              "      <td>142</td>\n",
              "      <td>131</td>\n",
              "      <td>70</td>\n",
              "    </tr>\n",
              "    <tr>\n",
              "      <th>1</th>\n",
              "      <td>Females</td>\n",
              "      <td>435</td>\n",
              "      <td>1523</td>\n",
              "      <td>1356</td>\n",
              "      <td>750</td>\n",
              "    </tr>\n",
              "  </tbody>\n",
              "</table>\n",
              "</div>"
            ],
            "text/plain": [
              "  Observed Values  East  West  North  South\n",
              "0           Males    50   142    131     70\n",
              "1         Females   435  1523   1356    750"
            ]
          },
<<<<<<< HEAD
          "execution_count": 6,
=======
<<<<<<< Updated upstream
          "execution_count": 13,
=======
          "execution_count": 6,
>>>>>>> Stashed changes
>>>>>>> 26ed4f0d7b6ab6e72756ca639f5d98b105c8cd74
          "metadata": {},
          "output_type": "execute_result"
        }
      ],
      "source": [
        "df = pd.read_csv('https://raw.githubusercontent.com/kunal-mallick/Data-Science-Assignments/main/03_Hypothesis%20Testing/Dataset/BuyerRatio.csv')\n",
<<<<<<< HEAD
=======
<<<<<<< Updated upstream
>>>>>>> 26ed4f0d7b6ab6e72756ca639f5d98b105c8cd74
        "df.head()"
=======
        "df"
>>>>>>> Stashed changes
      ]
    },
    {
      "attachments": {},
      "cell_type": "markdown",
      "metadata": {
        "id": "w92FPCv5eWNA"
      },
      "source": [
        "## Performing EDA on the given dataset"
      ]
    },
    {
      "cell_type": "code",
<<<<<<< HEAD
      "execution_count": 7,
=======
<<<<<<< Updated upstream
      "execution_count": 14,
=======
      "execution_count": 7,
>>>>>>> Stashed changes
>>>>>>> 26ed4f0d7b6ab6e72756ca639f5d98b105c8cd74
      "metadata": {
        "colab": {
          "base_uri": "https://localhost:8080/"
        },
        "id": "A5QjsYhzjcIo",
        "outputId": "f35e9fba-33a8-47eb-b5e2-583097eead32"
      },
      "outputs": [
        {
          "name": "stdout",
          "output_type": "stream",
          "text": [
            "<class 'pandas.core.frame.DataFrame'>\n",
            "RangeIndex: 2 entries, 0 to 1\n",
            "Data columns (total 5 columns):\n",
            " #   Column           Non-Null Count  Dtype \n",
            "---  ------           --------------  ----- \n",
            " 0   Observed Values  2 non-null      object\n",
            " 1   East             2 non-null      int64 \n",
            " 2   West             2 non-null      int64 \n",
            " 3   North            2 non-null      int64 \n",
            " 4   South            2 non-null      int64 \n",
            "dtypes: int64(4), object(1)\n",
            "memory usage: 208.0+ bytes\n"
          ]
        }
      ],
      "source": [
        "df.info()"
      ]
    },
    {
      "cell_type": "code",
<<<<<<< HEAD
      "execution_count": 8,
=======
<<<<<<< Updated upstream
      "execution_count": 15,
=======
      "execution_count": 8,
>>>>>>> Stashed changes
>>>>>>> 26ed4f0d7b6ab6e72756ca639f5d98b105c8cd74
      "metadata": {
        "colab": {
          "base_uri": "https://localhost:8080/",
          "height": 207
        },
        "id": "OArRvtinjxbU",
        "outputId": "30c5d9ba-1685-473d-8c24-d20adb86f3f9"
      },
      "outputs": [
        {
          "data": {
            "text/html": [
              "<div>\n",
              "<style scoped>\n",
              "    .dataframe tbody tr th:only-of-type {\n",
              "        vertical-align: middle;\n",
              "    }\n",
              "\n",
              "    .dataframe tbody tr th {\n",
              "        vertical-align: top;\n",
              "    }\n",
              "\n",
              "    .dataframe thead th {\n",
              "        text-align: right;\n",
              "    }\n",
              "</style>\n",
              "<table border=\"1\" class=\"dataframe\">\n",
              "  <thead>\n",
              "    <tr style=\"text-align: right;\">\n",
              "      <th></th>\n",
              "      <th>East</th>\n",
              "      <th>West</th>\n",
              "      <th>North</th>\n",
              "      <th>South</th>\n",
              "    </tr>\n",
              "  </thead>\n",
              "  <tbody>\n",
              "    <tr>\n",
              "      <th>0</th>\n",
              "      <td>50</td>\n",
              "      <td>142</td>\n",
              "      <td>131</td>\n",
              "      <td>70</td>\n",
              "    </tr>\n",
              "    <tr>\n",
              "      <th>1</th>\n",
              "      <td>435</td>\n",
              "      <td>1523</td>\n",
              "      <td>1356</td>\n",
              "      <td>750</td>\n",
              "    </tr>\n",
              "  </tbody>\n",
              "</table>\n",
              "</div>"
            ],
            "text/plain": [
              "   East  West  North  South\n",
              "0    50   142    131     70\n",
              "1   435  1523   1356    750"
            ]
          },
<<<<<<< HEAD
          "execution_count": 8,
=======
<<<<<<< Updated upstream
          "execution_count": 15,
=======
          "execution_count": 8,
>>>>>>> Stashed changes
>>>>>>> 26ed4f0d7b6ab6e72756ca639f5d98b105c8cd74
          "metadata": {},
          "output_type": "execute_result"
        }
      ],
      "source": [
        "df.drop(columns=['Observed Values'], inplace=True)\n",
        "df"
      ]
    },
    {
      "attachments": {},
      "cell_type": "markdown",
      "metadata": {
        "id": "1--jr1PKk-wY"
      },
      "source": [
        "# Executing Hypothesis Testing"
      ]
    },
    {
      "cell_type": "markdown",
      "metadata": {
        "id": "87CjT4frlVW6"
      },
      "source": [
        "- **H**(o) : Male-Female buyer rations are similar across regions\n",
        "- **H**(a) : Male-Female buyer rations are not similar across regions\n",
        "\n",
        "**Alpha value** : 0.05(*it a 2 tail, Chi-Square test*)"
      ]
    },
    {
      "cell_type": "code",
<<<<<<< HEAD
      "execution_count": 9,
=======
<<<<<<< Updated upstream
      "execution_count": 16,
=======
      "execution_count": 9,
>>>>>>> Stashed changes
>>>>>>> 26ed4f0d7b6ab6e72756ca639f5d98b105c8cd74
      "metadata": {
        "colab": {
          "base_uri": "https://localhost:8080/"
        },
        "id": "B1Heo1nljT6d",
        "outputId": "12c77bd0-3977-4524-e8cf-314645cf8080"
      },
      "outputs": [
        {
          "name": "stdout",
          "output_type": "stream",
          "text": [
            "Fail to reject the null hypothesis \n",
            " Male-Female buyer rations are similar across regions\n"
          ]
        }
      ],
      "source": [
        "alpha =0.05\n",
        "\n",
        "stat, pvalue, dof, expected_freq =st.chi2_contingency(df)\n",
        "\n",
        "if pvalue > alpha :\n",
        "  print(\"Fail to reject the null hypothesis \\n Male-Female buyer rations are similar across regions\")\n",
        "else :\n",
        "  print(\"rejecting the null hypothesis\\n Male-Female buyer rations are not similar across regions\")"
      ]
    }
  ],
  "metadata": {
    "colab": {
      "authorship_tag": "ABX9TyOfB/qlzoygZqjEPB1jgGpp",
      "include_colab_link": true,
      "provenance": []
    },
    "kernelspec": {
      "display_name": "Python 3",
      "name": "python3"
    },
    "language_info": {
      "codemirror_mode": {
        "name": "ipython",
        "version": 3
      },
      "file_extension": ".py",
      "mimetype": "text/x-python",
      "name": "python",
      "nbconvert_exporter": "python",
      "pygments_lexer": "ipython3",
      "version": "3.9.13"
    }
  },
  "nbformat": 4,
  "nbformat_minor": 0
}
